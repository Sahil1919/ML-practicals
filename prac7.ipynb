{
 "cells": [
  {
   "cell_type": "code",
   "execution_count": 1,
   "metadata": {},
   "outputs": [
    {
     "name": "stdout",
     "output_type": "stream",
     "text": [
      "Input: [0 0] Output: [0]\n",
      "Input: [0 1] Output: [1]\n",
      "Input: [1 0] Output: [1]\n",
      "Input: [1 1] Output: [1]\n",
      "Weights: [0.20047162 0.18692549]\n",
      "Bias: [-0.08089729]\n"
     ]
    }
   ],
   "source": [
    "import numpy as np\n",
    "\n",
    "# Define the OR gate truth table\n",
    "X = np.array([[0, 0],\n",
    "              [0, 1],\n",
    "              [1, 0],\n",
    "              [1, 1]])\n",
    "y = np.array([0, 1, 1, 1])  # OR gate output\n",
    "\n",
    "# Initialize weights and bias randomly\n",
    "weights = np.random.rand(2)\n",
    "bias = np.random.rand(1)\n",
    "\n",
    "# Define the activation function (Step function)\n",
    "def step_function(x):\n",
    "    return np.where(x >= 0, 1, 0)\n",
    "\n",
    "# Define the learning rate\n",
    "learning_rate = 0.1\n",
    "\n",
    "# Train the perceptron using Single Layer Perceptron Learning algorithm\n",
    "epochs = 1000\n",
    "for epoch in range(epochs):\n",
    "    for i in range(len(X)):\n",
    "        input_pattern = X[i]\n",
    "        target_output = y[i]\n",
    "        \n",
    "        # Compute the predicted output\n",
    "        predicted_output = step_function(np.dot(input_pattern, weights) + bias)\n",
    "        \n",
    "        # Update the weights and bias based on the error\n",
    "        weights += learning_rate * (target_output - predicted_output) * input_pattern\n",
    "        bias += learning_rate * (target_output - predicted_output)\n",
    "\n",
    "# Test the trained perceptron\n",
    "for i in range(len(X)):\n",
    "    input_pattern = X[i]\n",
    "    predicted_output = step_function(np.dot(input_pattern, weights) + bias)\n",
    "    print(\"Input:\", input_pattern, \"Output:\", predicted_output)\n",
    "\n",
    "# Validate against the truth table\n",
    "print(\"Weights:\", weights)\n",
    "print(\"Bias:\", bias)\n"
   ]
  }
 ],
 "metadata": {
  "kernelspec": {
   "display_name": "Python 3",
   "language": "python",
   "name": "python3"
  },
  "language_info": {
   "codemirror_mode": {
    "name": "ipython",
    "version": 3
   },
   "file_extension": ".py",
   "mimetype": "text/x-python",
   "name": "python",
   "nbconvert_exporter": "python",
   "pygments_lexer": "ipython3",
   "version": "3.11.3"
  }
 },
 "nbformat": 4,
 "nbformat_minor": 2
}
