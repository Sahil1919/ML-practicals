{
 "cells": [
  {
   "cell_type": "code",
   "execution_count": 2,
   "metadata": {},
   "outputs": [
    {
     "name": "stdout",
     "output_type": "stream",
     "text": [
      "Testing the trained model for OR gate logic:\n",
      "Input: [1 1] -> Output: 1\n",
      "Input: [1 0] -> Output: 1\n",
      "Input: [0 1] -> Output: 1\n",
      "Input: [0 0] -> Output: 0\n"
     ]
    }
   ],
   "source": [
    "import numpy as np\n",
    "# Define the input patterns for OR gate (including bias term)\n",
    "X = np.array([\n",
    "    [1, 1],\n",
    "    [1, 0],\n",
    "    [0, 1],\n",
    "    [0, 0]\n",
    "])\n",
    "# Define the target outputs for OR gate\n",
    "Y = np.array([1, 1, 1, 0])\n",
    "# Initialize weights randomly (including bias weight)\n",
    "weights = np.random.rand(3)\n",
    "# Learning rate\n",
    "learning_rate = 0.1\n",
    "# Number of epochs (iterations)\n",
    "epochs = 10\n",
    "# Perceptron Learning Algorithm\n",
    "for epoch in range(epochs):\n",
    "    for i in range(len(X)):\n",
    "        # Add bias term to input\n",
    "        x = np.insert(X[i], 0, 1)\n",
    "        # Compute the activation (dot product of inputs and weights)\n",
    "        activation = np.dot(x, weights)\n",
    "        # Calculate the predicted output (1 if activation > 0, else 0)\n",
    "        predicted_output = 1 if activation > 0 else 0\n",
    "        # Update weights based on the error\n",
    "        error = Y[i] - predicted_output\n",
    "        weights += learning_rate * error * x\n",
    "# Function to predict output based on learned weights\n",
    "\n",
    "\n",
    "def predict(x):\n",
    "    # Add bias term to input\n",
    "    x = np.insert(x, 0, 1)\n",
    "    # Compute activation\n",
    "    activation = np.dot(x, weights)\n",
    "    # Return output (1 if activation is greater than 0, else 0)\n",
    "    return 1 if activation > 0 else 0\n",
    "\n",
    "\n",
    "# Test the trained model\n",
    "test_inputs = np.array([\n",
    "    [1, 1],  # True OR True -> Should output 1\n",
    "    [1, 0],  # True OR False -> Should output 1\n",
    "    [0, 1],  # True OR False -> Should output 1\n",
    "    [0, 0]  # False OR False -> Should output 0\n",
    "])\n",
    "print(\"Testing the trained model for OR gate logic:\")\n",
    "for i in range(len(test_inputs)):\n",
    "    prediction = predict(test_inputs[i])\n",
    "    print(f\"Input: {test_inputs[i]} -> Output: {prediction}\")"
   ]
  }
 ],
 "metadata": {
  "kernelspec": {
   "display_name": "Python 3",
   "language": "python",
   "name": "python3"
  },
  "language_info": {
   "codemirror_mode": {
    "name": "ipython",
    "version": 3
   },
   "file_extension": ".py",
   "mimetype": "text/x-python",
   "name": "python",
   "nbconvert_exporter": "python",
   "pygments_lexer": "ipython3",
   "version": "3.11.3"
  }
 },
 "nbformat": 4,
 "nbformat_minor": 2
}
