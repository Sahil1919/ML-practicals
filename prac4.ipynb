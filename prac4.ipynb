{
 "cells": [
  {
   "cell_type": "code",
   "execution_count": 24,
   "metadata": {},
   "outputs": [
    {
     "name": "stdout",
     "output_type": "stream",
     "text": [
      "Input: [1 1] -> Output: 1\n",
      "Input: [0 0] -> Output: 0\n",
      "Input: [1 0] -> Output: 1\n",
      "Input: [0 1] -> Output: 1\n"
     ]
    }
   ],
   "source": [
    "import numpy as np\n",
    "# Input patterns for AND gate (bias term included)\n",
    "X = np.array([\n",
    "[1, 1, 1],\n",
    "[1, 0, 0],\n",
    "[1, 1, 0],\n",
    "[1, 0, 0]\n",
    "])\n",
    "# Target outputs for AND gate\n",
    "Y = np.array([1, 0, 0, 0])\n",
    "# Initialize weights randomly\n",
    "weights = np.random.rand(3)\n",
    "# Learning rate\n",
    "learning_rate = 0.1\n",
    "# Number of iterations (epochs)\n",
    "epochs = 10\n",
    "# Hebbian Learning Rule\n",
    "for epoch in range(epochs):\n",
    "    for i in range(len(X)):\n",
    "    # Compute the output (activation) using current weights\n",
    "        activation = np.dot(X[i], weights)\n",
    "        # Update weights using Hebbian Learning Rule\n",
    "        weights += learning_rate * activation * X[i]\n",
    "# Test the trained model\n",
    "def predict(x):\n",
    "    return 1 if np.dot(x, weights) > 0 else 0\n",
    "# Test the AND gate logic\n",
    "test_inputs = np.array([\n",
    "[1, 1, 1], # Should output 1 (True AND True)\n",
    "[0, 0, 0], # Should output 0 (True AND False)\n",
    "[0, 1, 0], # Should output 0 (True AND False)\n",
    "[0, 0, 1] # Should output 0 (True AND False)\n",
    "])\n",
    "for i in range(len(test_inputs)):\n",
    "    prediction = predict(test_inputs[i])\n",
    "    print(f\"Input: {test_inputs[i][1:]} -> Output: {prediction}\")"
   ]
  }
 ],
 "metadata": {
  "kernelspec": {
   "display_name": "Python 3",
   "language": "python",
   "name": "python3"
  },
  "language_info": {
   "codemirror_mode": {
    "name": "ipython",
    "version": 3
   },
   "file_extension": ".py",
   "mimetype": "text/x-python",
   "name": "python",
   "nbconvert_exporter": "python",
   "pygments_lexer": "ipython3",
   "version": "3.11.3"
  }
 },
 "nbformat": 4,
 "nbformat_minor": 2
}
